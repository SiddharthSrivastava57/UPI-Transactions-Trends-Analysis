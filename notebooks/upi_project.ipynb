{
 "cells": [
  {
   "cell_type": "code",
   "execution_count": 2,
   "id": "c3a71934",
   "metadata": {},
   "outputs": [],
   "source": [
    "import pandas as pd"
   ]
  },
  {
   "cell_type": "code",
   "execution_count": 3,
   "id": "c0abca66",
   "metadata": {},
   "outputs": [],
   "source": [
    "df = pd.read_csv('upi_transactions_2024.csv')"
   ]
  },
  {
   "cell_type": "code",
   "execution_count": 4,
   "id": "92ec8357",
   "metadata": {},
   "outputs": [
    {
     "data": {
      "text/html": [
       "<div>\n",
       "<style scoped>\n",
       "    .dataframe tbody tr th:only-of-type {\n",
       "        vertical-align: middle;\n",
       "    }\n",
       "\n",
       "    .dataframe tbody tr th {\n",
       "        vertical-align: top;\n",
       "    }\n",
       "\n",
       "    .dataframe thead th {\n",
       "        text-align: right;\n",
       "    }\n",
       "</style>\n",
       "<table border=\"1\" class=\"dataframe\">\n",
       "  <thead>\n",
       "    <tr style=\"text-align: right;\">\n",
       "      <th></th>\n",
       "      <th>transaction id</th>\n",
       "      <th>timestamp</th>\n",
       "      <th>transaction type</th>\n",
       "      <th>merchant_category</th>\n",
       "      <th>amount (INR)</th>\n",
       "      <th>transaction_status</th>\n",
       "      <th>sender_age_group</th>\n",
       "      <th>receiver_age_group</th>\n",
       "      <th>sender_state</th>\n",
       "      <th>sender_bank</th>\n",
       "      <th>receiver_bank</th>\n",
       "      <th>device_type</th>\n",
       "      <th>network_type</th>\n",
       "      <th>fraud_flag</th>\n",
       "      <th>hour_of_day</th>\n",
       "      <th>day_of_week</th>\n",
       "      <th>is_weekend</th>\n",
       "    </tr>\n",
       "  </thead>\n",
       "  <tbody>\n",
       "    <tr>\n",
       "      <th>0</th>\n",
       "      <td>TXN0000000001</td>\n",
       "      <td>2024-10-08 15:17:28</td>\n",
       "      <td>P2P</td>\n",
       "      <td>Entertainment</td>\n",
       "      <td>868</td>\n",
       "      <td>SUCCESS</td>\n",
       "      <td>26-35</td>\n",
       "      <td>18-25</td>\n",
       "      <td>Delhi</td>\n",
       "      <td>Axis</td>\n",
       "      <td>SBI</td>\n",
       "      <td>Android</td>\n",
       "      <td>4G</td>\n",
       "      <td>0</td>\n",
       "      <td>15</td>\n",
       "      <td>Tuesday</td>\n",
       "      <td>0</td>\n",
       "    </tr>\n",
       "    <tr>\n",
       "      <th>1</th>\n",
       "      <td>TXN0000000002</td>\n",
       "      <td>2024-04-11 06:56:00</td>\n",
       "      <td>P2M</td>\n",
       "      <td>Grocery</td>\n",
       "      <td>1011</td>\n",
       "      <td>SUCCESS</td>\n",
       "      <td>26-35</td>\n",
       "      <td>26-35</td>\n",
       "      <td>Uttar Pradesh</td>\n",
       "      <td>ICICI</td>\n",
       "      <td>Axis</td>\n",
       "      <td>iOS</td>\n",
       "      <td>4G</td>\n",
       "      <td>0</td>\n",
       "      <td>6</td>\n",
       "      <td>Thursday</td>\n",
       "      <td>0</td>\n",
       "    </tr>\n",
       "    <tr>\n",
       "      <th>2</th>\n",
       "      <td>TXN0000000003</td>\n",
       "      <td>2024-04-02 13:27:18</td>\n",
       "      <td>P2P</td>\n",
       "      <td>Grocery</td>\n",
       "      <td>477</td>\n",
       "      <td>SUCCESS</td>\n",
       "      <td>26-35</td>\n",
       "      <td>36-45</td>\n",
       "      <td>Karnataka</td>\n",
       "      <td>Yes Bank</td>\n",
       "      <td>PNB</td>\n",
       "      <td>Android</td>\n",
       "      <td>4G</td>\n",
       "      <td>0</td>\n",
       "      <td>13</td>\n",
       "      <td>Tuesday</td>\n",
       "      <td>0</td>\n",
       "    </tr>\n",
       "    <tr>\n",
       "      <th>3</th>\n",
       "      <td>TXN0000000004</td>\n",
       "      <td>2024-01-07 10:09:17</td>\n",
       "      <td>P2P</td>\n",
       "      <td>Fuel</td>\n",
       "      <td>2784</td>\n",
       "      <td>SUCCESS</td>\n",
       "      <td>26-35</td>\n",
       "      <td>26-35</td>\n",
       "      <td>Delhi</td>\n",
       "      <td>ICICI</td>\n",
       "      <td>PNB</td>\n",
       "      <td>Android</td>\n",
       "      <td>5G</td>\n",
       "      <td>0</td>\n",
       "      <td>10</td>\n",
       "      <td>Sunday</td>\n",
       "      <td>1</td>\n",
       "    </tr>\n",
       "    <tr>\n",
       "      <th>4</th>\n",
       "      <td>TXN0000000005</td>\n",
       "      <td>2024-01-23 19:04:23</td>\n",
       "      <td>P2P</td>\n",
       "      <td>Shopping</td>\n",
       "      <td>990</td>\n",
       "      <td>SUCCESS</td>\n",
       "      <td>26-35</td>\n",
       "      <td>18-25</td>\n",
       "      <td>Delhi</td>\n",
       "      <td>Axis</td>\n",
       "      <td>Yes Bank</td>\n",
       "      <td>iOS</td>\n",
       "      <td>WiFi</td>\n",
       "      <td>0</td>\n",
       "      <td>19</td>\n",
       "      <td>Tuesday</td>\n",
       "      <td>0</td>\n",
       "    </tr>\n",
       "  </tbody>\n",
       "</table>\n",
       "</div>"
      ],
      "text/plain": [
       "  transaction id            timestamp transaction type merchant_category  \\\n",
       "0  TXN0000000001  2024-10-08 15:17:28              P2P     Entertainment   \n",
       "1  TXN0000000002  2024-04-11 06:56:00              P2M           Grocery   \n",
       "2  TXN0000000003  2024-04-02 13:27:18              P2P           Grocery   \n",
       "3  TXN0000000004  2024-01-07 10:09:17              P2P              Fuel   \n",
       "4  TXN0000000005  2024-01-23 19:04:23              P2P          Shopping   \n",
       "\n",
       "   amount (INR) transaction_status sender_age_group receiver_age_group  \\\n",
       "0           868            SUCCESS            26-35              18-25   \n",
       "1          1011            SUCCESS            26-35              26-35   \n",
       "2           477            SUCCESS            26-35              36-45   \n",
       "3          2784            SUCCESS            26-35              26-35   \n",
       "4           990            SUCCESS            26-35              18-25   \n",
       "\n",
       "    sender_state sender_bank receiver_bank device_type network_type  \\\n",
       "0          Delhi        Axis           SBI     Android           4G   \n",
       "1  Uttar Pradesh       ICICI          Axis         iOS           4G   \n",
       "2      Karnataka    Yes Bank           PNB     Android           4G   \n",
       "3          Delhi       ICICI           PNB     Android           5G   \n",
       "4          Delhi        Axis      Yes Bank         iOS         WiFi   \n",
       "\n",
       "   fraud_flag  hour_of_day day_of_week  is_weekend  \n",
       "0           0           15     Tuesday           0  \n",
       "1           0            6    Thursday           0  \n",
       "2           0           13     Tuesday           0  \n",
       "3           0           10      Sunday           1  \n",
       "4           0           19     Tuesday           0  "
      ]
     },
     "execution_count": 4,
     "metadata": {},
     "output_type": "execute_result"
    }
   ],
   "source": [
    "df.head()"
   ]
  },
  {
   "cell_type": "code",
   "execution_count": 5,
   "id": "bec6e21a",
   "metadata": {},
   "outputs": [
    {
     "name": "stdout",
     "output_type": "stream",
     "text": [
      "<class 'pandas.core.frame.DataFrame'>\n",
      "RangeIndex: 250000 entries, 0 to 249999\n",
      "Data columns (total 17 columns):\n",
      " #   Column              Non-Null Count   Dtype \n",
      "---  ------              --------------   ----- \n",
      " 0   transaction id      250000 non-null  object\n",
      " 1   timestamp           250000 non-null  object\n",
      " 2   transaction type    250000 non-null  object\n",
      " 3   merchant_category   250000 non-null  object\n",
      " 4   amount (INR)        250000 non-null  int64 \n",
      " 5   transaction_status  250000 non-null  object\n",
      " 6   sender_age_group    250000 non-null  object\n",
      " 7   receiver_age_group  250000 non-null  object\n",
      " 8   sender_state        250000 non-null  object\n",
      " 9   sender_bank         250000 non-null  object\n",
      " 10  receiver_bank       250000 non-null  object\n",
      " 11  device_type         250000 non-null  object\n",
      " 12  network_type        250000 non-null  object\n",
      " 13  fraud_flag          250000 non-null  int64 \n",
      " 14  hour_of_day         250000 non-null  int64 \n",
      " 15  day_of_week         250000 non-null  object\n",
      " 16  is_weekend          250000 non-null  int64 \n",
      "dtypes: int64(4), object(13)\n",
      "memory usage: 32.4+ MB\n"
     ]
    }
   ],
   "source": [
    "df.info()"
   ]
  },
  {
   "cell_type": "code",
   "execution_count": 6,
   "id": "f8aa0c35",
   "metadata": {},
   "outputs": [],
   "source": [
    "df['timestamp'] = pd.to_datetime(df['timestamp'])"
   ]
  },
  {
   "cell_type": "code",
   "execution_count": 7,
   "id": "309c9d65",
   "metadata": {},
   "outputs": [
    {
     "data": {
      "text/plain": [
       "pandas._libs.tslibs.timestamps.Timestamp"
      ]
     },
     "execution_count": 7,
     "metadata": {},
     "output_type": "execute_result"
    }
   ],
   "source": [
    "type(df['timestamp'][0])"
   ]
  },
  {
   "cell_type": "code",
   "execution_count": 8,
   "id": "b8291605",
   "metadata": {},
   "outputs": [
    {
     "data": {
      "text/plain": [
       "transaction id        250000\n",
       "timestamp             248610\n",
       "transaction type           4\n",
       "merchant_category         10\n",
       "amount (INR)           10355\n",
       "transaction_status         2\n",
       "sender_age_group           5\n",
       "receiver_age_group         5\n",
       "sender_state              10\n",
       "sender_bank                8\n",
       "receiver_bank              8\n",
       "device_type                3\n",
       "network_type               4\n",
       "fraud_flag                 2\n",
       "hour_of_day               24\n",
       "day_of_week                7\n",
       "is_weekend                 2\n",
       "dtype: int64"
      ]
     },
     "execution_count": 8,
     "metadata": {},
     "output_type": "execute_result"
    }
   ],
   "source": [
    "df.nunique()"
   ]
  },
  {
   "cell_type": "code",
   "execution_count": 9,
   "id": "2d24c74a",
   "metadata": {},
   "outputs": [
    {
     "name": "stdout",
     "output_type": "stream",
     "text": [
      "Index(['transaction_id', 'timestamp', 'transaction_type', 'merchant_category',\n",
      "       'amount_(inr)', 'transaction_status', 'sender_age_group',\n",
      "       'receiver_age_group', 'sender_state', 'sender_bank', 'receiver_bank',\n",
      "       'device_type', 'network_type', 'fraud_flag', 'hour_of_day',\n",
      "       'day_of_week', 'is_weekend'],\n",
      "      dtype='object')\n"
     ]
    }
   ],
   "source": [
    "df.columns = [i.strip().lower().replace(' ','_') for i in df.columns]\n",
    "print(df.columns)"
   ]
  },
  {
   "cell_type": "code",
   "execution_count": 10,
   "id": "9e0da0e9",
   "metadata": {},
   "outputs": [],
   "source": [
    "df.rename(columns={'amount_(inr)': 'amount'}, inplace=True)"
   ]
  },
  {
   "cell_type": "code",
   "execution_count": 11,
   "id": "6fa97508",
   "metadata": {},
   "outputs": [
    {
     "data": {
      "text/plain": [
       "array(['Android', 'iOS', 'Web'], dtype=object)"
      ]
     },
     "execution_count": 11,
     "metadata": {},
     "output_type": "execute_result"
    }
   ],
   "source": [
    "df['device_type'].unique()"
   ]
  },
  {
   "cell_type": "code",
   "execution_count": 12,
   "id": "a2db4d8c",
   "metadata": {},
   "outputs": [
    {
     "data": {
      "text/plain": [
       "transaction_id        0\n",
       "timestamp             0\n",
       "transaction_type      0\n",
       "merchant_category     0\n",
       "amount                0\n",
       "transaction_status    0\n",
       "sender_age_group      0\n",
       "receiver_age_group    0\n",
       "sender_state          0\n",
       "sender_bank           0\n",
       "receiver_bank         0\n",
       "device_type           0\n",
       "network_type          0\n",
       "fraud_flag            0\n",
       "hour_of_day           0\n",
       "day_of_week           0\n",
       "is_weekend            0\n",
       "dtype: int64"
      ]
     },
     "execution_count": 12,
     "metadata": {},
     "output_type": "execute_result"
    }
   ],
   "source": [
    "df.isnull().sum()"
   ]
  },
  {
   "cell_type": "code",
   "execution_count": 13,
   "id": "affe6458",
   "metadata": {},
   "outputs": [
    {
     "data": {
      "text/html": [
       "<div>\n",
       "<style scoped>\n",
       "    .dataframe tbody tr th:only-of-type {\n",
       "        vertical-align: middle;\n",
       "    }\n",
       "\n",
       "    .dataframe tbody tr th {\n",
       "        vertical-align: top;\n",
       "    }\n",
       "\n",
       "    .dataframe thead th {\n",
       "        text-align: right;\n",
       "    }\n",
       "</style>\n",
       "<table border=\"1\" class=\"dataframe\">\n",
       "  <thead>\n",
       "    <tr style=\"text-align: right;\">\n",
       "      <th></th>\n",
       "      <th>timestamp</th>\n",
       "      <th>amount</th>\n",
       "      <th>fraud_flag</th>\n",
       "      <th>hour_of_day</th>\n",
       "      <th>is_weekend</th>\n",
       "    </tr>\n",
       "  </thead>\n",
       "  <tbody>\n",
       "    <tr>\n",
       "      <th>count</th>\n",
       "      <td>250000</td>\n",
       "      <td>250000.000000</td>\n",
       "      <td>250000.000000</td>\n",
       "      <td>250000.000000</td>\n",
       "      <td>250000.000000</td>\n",
       "    </tr>\n",
       "    <tr>\n",
       "      <th>mean</th>\n",
       "      <td>2024-07-01 15:57:20.438195456</td>\n",
       "      <td>1311.756036</td>\n",
       "      <td>0.001920</td>\n",
       "      <td>14.681032</td>\n",
       "      <td>0.285348</td>\n",
       "    </tr>\n",
       "    <tr>\n",
       "      <th>min</th>\n",
       "      <td>2024-01-01 00:05:10</td>\n",
       "      <td>10.000000</td>\n",
       "      <td>0.000000</td>\n",
       "      <td>0.000000</td>\n",
       "      <td>0.000000</td>\n",
       "    </tr>\n",
       "    <tr>\n",
       "      <th>25%</th>\n",
       "      <td>2024-04-01 15:12:57.249999872</td>\n",
       "      <td>288.000000</td>\n",
       "      <td>0.000000</td>\n",
       "      <td>11.000000</td>\n",
       "      <td>0.000000</td>\n",
       "    </tr>\n",
       "    <tr>\n",
       "      <th>50%</th>\n",
       "      <td>2024-07-01 14:34:17</td>\n",
       "      <td>629.000000</td>\n",
       "      <td>0.000000</td>\n",
       "      <td>15.000000</td>\n",
       "      <td>0.000000</td>\n",
       "    </tr>\n",
       "    <tr>\n",
       "      <th>75%</th>\n",
       "      <td>2024-09-30 18:13:45</td>\n",
       "      <td>1596.000000</td>\n",
       "      <td>0.000000</td>\n",
       "      <td>19.000000</td>\n",
       "      <td>1.000000</td>\n",
       "    </tr>\n",
       "    <tr>\n",
       "      <th>max</th>\n",
       "      <td>2024-12-30 23:55:40</td>\n",
       "      <td>42099.000000</td>\n",
       "      <td>1.000000</td>\n",
       "      <td>23.000000</td>\n",
       "      <td>1.000000</td>\n",
       "    </tr>\n",
       "    <tr>\n",
       "      <th>std</th>\n",
       "      <td>NaN</td>\n",
       "      <td>1848.059224</td>\n",
       "      <td>0.043776</td>\n",
       "      <td>5.188304</td>\n",
       "      <td>0.451581</td>\n",
       "    </tr>\n",
       "  </tbody>\n",
       "</table>\n",
       "</div>"
      ],
      "text/plain": [
       "                           timestamp         amount     fraud_flag  \\\n",
       "count                         250000  250000.000000  250000.000000   \n",
       "mean   2024-07-01 15:57:20.438195456    1311.756036       0.001920   \n",
       "min              2024-01-01 00:05:10      10.000000       0.000000   \n",
       "25%    2024-04-01 15:12:57.249999872     288.000000       0.000000   \n",
       "50%              2024-07-01 14:34:17     629.000000       0.000000   \n",
       "75%              2024-09-30 18:13:45    1596.000000       0.000000   \n",
       "max              2024-12-30 23:55:40   42099.000000       1.000000   \n",
       "std                              NaN    1848.059224       0.043776   \n",
       "\n",
       "         hour_of_day     is_weekend  \n",
       "count  250000.000000  250000.000000  \n",
       "mean       14.681032       0.285348  \n",
       "min         0.000000       0.000000  \n",
       "25%        11.000000       0.000000  \n",
       "50%        15.000000       0.000000  \n",
       "75%        19.000000       1.000000  \n",
       "max        23.000000       1.000000  \n",
       "std         5.188304       0.451581  "
      ]
     },
     "execution_count": 13,
     "metadata": {},
     "output_type": "execute_result"
    }
   ],
   "source": [
    "df.describe()"
   ]
  },
  {
   "cell_type": "code",
   "execution_count": 14,
   "id": "c9dec181",
   "metadata": {},
   "outputs": [
    {
     "name": "stdout",
     "output_type": "stream",
     "text": [
      "sender_age_group\n",
      "18-25    143\n",
      "26-35    163\n",
      "36-45    116\n",
      "46-55     31\n",
      "56+       27\n",
      "dtype: int64\n"
     ]
    }
   ],
   "source": [
    "fraud_count = df[df['fraud_flag'] == 1].groupby('sender_age_group').size()\n",
    "print(fraud_count)"
   ]
  },
  {
   "cell_type": "code",
   "execution_count": 15,
   "id": "dc8bdf71",
   "metadata": {},
   "outputs": [
    {
     "name": "stdout",
     "output_type": "stream",
     "text": [
      "merchant_category\n",
      "Education        5094.017636\n",
      "Shopping         2573.085398\n",
      "Utilities        2361.110305\n",
      "Fuel             1555.383434\n",
      "Grocery          1166.350979\n",
      "Other             848.777550\n",
      "Healthcare        542.853905\n",
      "Food              531.694480\n",
      "Entertainment     413.325374\n",
      "Transport         308.003780\n",
      "Name: amount, dtype: float64\n"
     ]
    }
   ],
   "source": [
    "average_spent = df.groupby('merchant_category')['amount'].mean().sort_values(ascending=False)\n",
    "print(average_spent)"
   ]
  },
  {
   "cell_type": "code",
   "execution_count": 16,
   "id": "9cbe54a0",
   "metadata": {},
   "outputs": [
    {
     "data": {
      "text/html": [
       "<div>\n",
       "<style scoped>\n",
       "    .dataframe tbody tr th:only-of-type {\n",
       "        vertical-align: middle;\n",
       "    }\n",
       "\n",
       "    .dataframe tbody tr th {\n",
       "        vertical-align: top;\n",
       "    }\n",
       "\n",
       "    .dataframe thead th {\n",
       "        text-align: right;\n",
       "    }\n",
       "</style>\n",
       "<table border=\"1\" class=\"dataframe\">\n",
       "  <thead>\n",
       "    <tr style=\"text-align: right;\">\n",
       "      <th>sender_age_group</th>\n",
       "      <th>18-25</th>\n",
       "      <th>26-35</th>\n",
       "      <th>36-45</th>\n",
       "      <th>46-55</th>\n",
       "      <th>56+</th>\n",
       "    </tr>\n",
       "    <tr>\n",
       "      <th>merchant_category</th>\n",
       "      <th></th>\n",
       "      <th></th>\n",
       "      <th></th>\n",
       "      <th></th>\n",
       "      <th></th>\n",
       "    </tr>\n",
       "  </thead>\n",
       "  <tbody>\n",
       "    <tr>\n",
       "      <th>Education</th>\n",
       "      <td>3097.595645</td>\n",
       "      <td>5287.210607</td>\n",
       "      <td>6716.587277</td>\n",
       "      <td>5900.342742</td>\n",
       "      <td>3865.399441</td>\n",
       "    </tr>\n",
       "    <tr>\n",
       "      <th>Entertainment</th>\n",
       "      <td>502.329744</td>\n",
       "      <td>440.259847</td>\n",
       "      <td>365.706309</td>\n",
       "      <td>301.153310</td>\n",
       "      <td>255.125743</td>\n",
       "    </tr>\n",
       "    <tr>\n",
       "      <th>Food</th>\n",
       "      <td>570.195075</td>\n",
       "      <td>560.031250</td>\n",
       "      <td>497.158234</td>\n",
       "      <td>469.533672</td>\n",
       "      <td>436.079787</td>\n",
       "    </tr>\n",
       "    <tr>\n",
       "      <th>Fuel</th>\n",
       "      <td>1387.726472</td>\n",
       "      <td>1531.052993</td>\n",
       "      <td>1777.435190</td>\n",
       "      <td>1674.260142</td>\n",
       "      <td>1204.511755</td>\n",
       "    </tr>\n",
       "    <tr>\n",
       "      <th>Grocery</th>\n",
       "      <td>951.784301</td>\n",
       "      <td>1177.441471</td>\n",
       "      <td>1341.554724</td>\n",
       "      <td>1253.892979</td>\n",
       "      <td>1101.726006</td>\n",
       "    </tr>\n",
       "    <tr>\n",
       "      <th>Healthcare</th>\n",
       "      <td>332.723813</td>\n",
       "      <td>471.735550</td>\n",
       "      <td>623.931291</td>\n",
       "      <td>778.438003</td>\n",
       "      <td>1193.427035</td>\n",
       "    </tr>\n",
       "    <tr>\n",
       "      <th>Other</th>\n",
       "      <td>920.624717</td>\n",
       "      <td>870.734209</td>\n",
       "      <td>817.673286</td>\n",
       "      <td>756.935444</td>\n",
       "      <td>669.449288</td>\n",
       "    </tr>\n",
       "    <tr>\n",
       "      <th>Shopping</th>\n",
       "      <td>3034.895198</td>\n",
       "      <td>2741.448533</td>\n",
       "      <td>2312.287671</td>\n",
       "      <td>1948.524446</td>\n",
       "      <td>1660.991962</td>\n",
       "    </tr>\n",
       "    <tr>\n",
       "      <th>Transport</th>\n",
       "      <td>340.700589</td>\n",
       "      <td>308.630527</td>\n",
       "      <td>303.398394</td>\n",
       "      <td>283.086767</td>\n",
       "      <td>210.213494</td>\n",
       "    </tr>\n",
       "    <tr>\n",
       "      <th>Utilities</th>\n",
       "      <td>1619.251929</td>\n",
       "      <td>2225.286219</td>\n",
       "      <td>2782.168026</td>\n",
       "      <td>3101.591556</td>\n",
       "      <td>3344.762238</td>\n",
       "    </tr>\n",
       "  </tbody>\n",
       "</table>\n",
       "</div>"
      ],
      "text/plain": [
       "sender_age_group         18-25        26-35        36-45        46-55  \\\n",
       "merchant_category                                                       \n",
       "Education          3097.595645  5287.210607  6716.587277  5900.342742   \n",
       "Entertainment       502.329744   440.259847   365.706309   301.153310   \n",
       "Food                570.195075   560.031250   497.158234   469.533672   \n",
       "Fuel               1387.726472  1531.052993  1777.435190  1674.260142   \n",
       "Grocery             951.784301  1177.441471  1341.554724  1253.892979   \n",
       "Healthcare          332.723813   471.735550   623.931291   778.438003   \n",
       "Other               920.624717   870.734209   817.673286   756.935444   \n",
       "Shopping           3034.895198  2741.448533  2312.287671  1948.524446   \n",
       "Transport           340.700589   308.630527   303.398394   283.086767   \n",
       "Utilities          1619.251929  2225.286219  2782.168026  3101.591556   \n",
       "\n",
       "sender_age_group           56+  \n",
       "merchant_category               \n",
       "Education          3865.399441  \n",
       "Entertainment       255.125743  \n",
       "Food                436.079787  \n",
       "Fuel               1204.511755  \n",
       "Grocery            1101.726006  \n",
       "Healthcare         1193.427035  \n",
       "Other               669.449288  \n",
       "Shopping           1660.991962  \n",
       "Transport           210.213494  \n",
       "Utilities          3344.762238  "
      ]
     },
     "execution_count": 16,
     "metadata": {},
     "output_type": "execute_result"
    }
   ],
   "source": [
    "df.pivot_table(values='amount', \n",
    "               index='merchant_category', \n",
    "               columns='sender_age_group', \n",
    "               aggfunc='mean')"
   ]
  },
  {
   "cell_type": "code",
   "execution_count": 17,
   "id": "81bc51bd",
   "metadata": {},
   "outputs": [],
   "source": [
    "df.to_csv('upi_2024.csv',index=False)"
   ]
  }
 ],
 "metadata": {
  "kernelspec": {
   "display_name": "luke_barousse",
   "language": "python",
   "name": "python3"
  },
  "language_info": {
   "codemirror_mode": {
    "name": "ipython",
    "version": 3
   },
   "file_extension": ".py",
   "mimetype": "text/x-python",
   "name": "python",
   "nbconvert_exporter": "python",
   "pygments_lexer": "ipython3",
   "version": "3.13.5"
  }
 },
 "nbformat": 4,
 "nbformat_minor": 5
}
